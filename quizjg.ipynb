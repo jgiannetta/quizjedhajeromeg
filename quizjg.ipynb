{
  "nbformat": 4,
  "nbformat_minor": 0,
  "metadata": {
    "kernelspec": {
      "display_name": "Python 3",
      "language": "python",
      "name": "python3"
    },
    "language_info": {
      "codemirror_mode": {
        "name": "ipython",
        "version": 3
      },
      "file_extension": ".py",
      "mimetype": "text/x-python",
      "name": "python",
      "nbconvert_exporter": "python",
      "pygments_lexer": "ipython3",
      "version": "3.8.5"
    },
    "colab": {
      "name": "Correction Quizz.ipynb",
      "provenance": [],
      "collapsed_sections": []
    }
  },
  "cells": [
    {
      "cell_type": "code",
      "metadata": {
        "id": "sTNIL8SuyW3V",
        "colab_type": "code",
        "colab": {},
        "outputId": "9cec134a-2e95-4ceb-c0db-310f0869e818"
      },
      "source": [
        "def ask_question(nb_attempts_left, question_sentence, right_answer):\n",
        "    if nb_attempts_left > 0:\n",
        "        answer = input(question_sentence)\n",
        "        answer = answer.lower()\n",
        "        while answer != right_answer:\n",
        "            nb_attempts_left -=1\n",
        "            print(\"Dommage ! Il te reste {} chances\".format(nb_attempts_left))\n",
        "            if nb_attempts_left == 0:\n",
        "                print(\"Oh non ! Tu as perdu le jeu...\")\n",
        "                break\n",
        "            answer = input(question_sentence)\n",
        "            answer = answer.lower()\n",
        "    return nb_attempts_left\n",
        "\n",
        "questions_answers_dic = {\n",
        "    \"Combien de fois la France a gagné la coupe du monde ?\": \"2\",\n",
        "    \"Quand a été fondé Apple ?\" : \"1976\",\n",
        "    \"Qui a fondé SpaceX ?\" : \"elon musk\"\n",
        "}\n",
        "nb_attempts = 3\n",
        "\n",
        "for question, answer in questions_answers_dic.items() :\n",
        "    nb_attempts = ask_question(nb_attempts, question, answer)\n",
        "if nb_attempts > 0:\n",
        "    print(\"Bravo ! Tu as gagné le quizz\")\n",
        "\n",
        "\"\"\"\n",
        "questions_answers_list = [\n",
        "    (\"Combien de fois la France a gagné la coupe du monde ?\", \"2\"),\n",
        "    (\"Quand a été fondé Apple ?\", \"1976\"),\n",
        "    (\"Qui a fondé SpaceX ?\", \"elon musk\")\n",
        "]\n",
        "\"\"\"\n",
        "\n",
        "\"\"\"\n",
        "for question, answer in questions_answers_list :\n",
        "    nb_attempts = ask_question(nb_attempts, question, answer)\n",
        "if nb_attempts > 0:\n",
        "    print(\"Bravo ! Tu as gagné le quizz\")\n",
        "\"\"\""
      ],
      "execution_count": null,
      "outputs": [
        {
          "output_type": "stream",
          "text": [
            "Combien de fois la France a gagné la coupe du monde ? 2\n",
            "Quand a été fondé Apple ? 1976\n",
            "Qui a fondé SpaceX ? elon musl\n"
          ],
          "name": "stdin"
        },
        {
          "output_type": "stream",
          "text": [
            "Dommage ! Il te reste 2 chances\n"
          ],
          "name": "stdout"
        },
        {
          "output_type": "stream",
          "text": [
            "Qui a fondé SpaceX ? elon musk\n"
          ],
          "name": "stdin"
        },
        {
          "output_type": "stream",
          "text": [
            "Bravo ! Tu as gagné le quizz\n"
          ],
          "name": "stdout"
        },
        {
          "output_type": "execute_result",
          "data": {
            "text/plain": [
              "'\\nfor question, answer in questions_answers_list :\\n    nb_attempts = ask_question(nb_attempts, question, answer)\\nif nb_attempts > 0:\\n    print(\"Bravo ! Tu as gagné le quizz\")\\n'"
            ]
          },
          "metadata": {
            "tags": []
          },
          "execution_count": 15
        }
      ]
    },
    {
      "cell_type": "code",
      "metadata": {
        "id": "j9CjhSf7yW3Z",
        "colab_type": "code",
        "colab": {},
        "outputId": "1ab24e75-9074-4d06-bba3-8a06fdb553f1"
      },
      "source": [
        ""
      ],
      "execution_count": null,
      "outputs": [
        {
          "output_type": "error",
          "ename": "NameError",
          "evalue": "name 'question' is not defined",
          "traceback": [
            "\u001b[0;31m---------------------------------------------------------------------------\u001b[0m",
            "\u001b[0;31mNameError\u001b[0m                                 Traceback (most recent call last)",
            "\u001b[0;32m<ipython-input-12-5276857f2c59>\u001b[0m in \u001b[0;36m<module>\u001b[0;34m\u001b[0m\n\u001b[1;32m      7\u001b[0m \u001b[0;34m\u001b[0m\u001b[0m\n\u001b[1;32m      8\u001b[0m \u001b[0;32mfor\u001b[0m \u001b[0mkey\u001b[0m\u001b[0;34m,\u001b[0m \u001b[0mvalue\u001b[0m \u001b[0;32min\u001b[0m \u001b[0mquestions_answers_list\u001b[0m\u001b[0;34m.\u001b[0m\u001b[0mitems\u001b[0m\u001b[0;34m(\u001b[0m\u001b[0;34m)\u001b[0m \u001b[0;34m:\u001b[0m\u001b[0;34m\u001b[0m\u001b[0;34m\u001b[0m\u001b[0m\n\u001b[0;32m----> 9\u001b[0;31m     \u001b[0mnb_attempts\u001b[0m \u001b[0;34m=\u001b[0m \u001b[0mask_question\u001b[0m\u001b[0;34m(\u001b[0m\u001b[0mnb_attempts\u001b[0m\u001b[0;34m,\u001b[0m \u001b[0mquestion\u001b[0m\u001b[0;34m,\u001b[0m \u001b[0manswer\u001b[0m\u001b[0;34m)\u001b[0m\u001b[0;34m\u001b[0m\u001b[0;34m\u001b[0m\u001b[0m\n\u001b[0m\u001b[1;32m     10\u001b[0m \u001b[0;32mif\u001b[0m \u001b[0mnb_attempts\u001b[0m \u001b[0;34m>\u001b[0m \u001b[0;36m0\u001b[0m\u001b[0;34m:\u001b[0m\u001b[0;34m\u001b[0m\u001b[0;34m\u001b[0m\u001b[0m\n\u001b[1;32m     11\u001b[0m     \u001b[0mprint\u001b[0m\u001b[0;34m(\u001b[0m\u001b[0;34m\"Bravo ! Tu as gagné le quizz\"\u001b[0m\u001b[0;34m)\u001b[0m\u001b[0;34m\u001b[0m\u001b[0;34m\u001b[0m\u001b[0m\n",
            "\u001b[0;31mNameError\u001b[0m: name 'question' is not defined"
          ]
        }
      ]
    },
    {
      "cell_type": "code",
      "metadata": {
        "id": "xFjekMGvyW3b",
        "colab_type": "code",
        "colab": {},
        "outputId": "f30a2327-3a7d-4844-f3fc-253725d72abe"
      },
      "source": [
        "\n"
      ],
      "execution_count": null,
      "outputs": [
        {
          "output_type": "execute_result",
          "data": {
            "text/plain": [
              "dict_items([('Combien de fois la France a gagné la coupe du monde ?', '2'), ('Quand a été fondé Apple ?', '1976'), ('Qui a fondé SpaceX ?', 'elon musk')])"
            ]
          },
          "metadata": {
            "tags": []
          },
          "execution_count": 11
        }
      ]
    },
    {
      "cell_type": "code",
      "metadata": {
        "id": "wE44BcopyW3d",
        "colab_type": "code",
        "colab": {}
      },
      "source": [
        ""
      ],
      "execution_count": null,
      "outputs": []
    }
  ]
}